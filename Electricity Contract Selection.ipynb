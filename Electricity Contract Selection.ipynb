{
 "cells": [
  {
   "cell_type": "markdown",
   "id": "e00fd1fa",
   "metadata": {},
   "source": [
    "## Electricity Contract Selection "
   ]
  },
  {
   "cell_type": "code",
   "execution_count": 1,
   "id": "1dbed8ac",
   "metadata": {},
   "outputs": [],
   "source": [
    "import pandas as pd\n",
    "import numpy as np\n",
    "import matplotlib.pyplot as plt\n",
    "import seaborn as sns\n",
    "import warnings\n",
    "import os\n",
    "import re\n",
    "\n",
    "warnings.filterwarnings('ignore')"
   ]
  },
  {
   "cell_type": "code",
   "execution_count": 2,
   "id": "789cd39c",
   "metadata": {},
   "outputs": [],
   "source": [
    "os.chdir('D:\\Data analysis\\DataScience Academy\\Python course\\Python Capstone')"
   ]
  },
  {
   "cell_type": "code",
   "execution_count": 3,
   "id": "c42a562c",
   "metadata": {
    "scrolled": false
   },
   "outputs": [
    {
     "data": {
      "text/html": [
       "<div>\n",
       "<style scoped>\n",
       "    .dataframe tbody tr th:only-of-type {\n",
       "        vertical-align: middle;\n",
       "    }\n",
       "\n",
       "    .dataframe tbody tr th {\n",
       "        vertical-align: top;\n",
       "    }\n",
       "\n",
       "    .dataframe thead th {\n",
       "        text-align: right;\n",
       "    }\n",
       "</style>\n",
       "<table border=\"1\" class=\"dataframe\">\n",
       "  <thead>\n",
       "    <tr style=\"text-align: right;\">\n",
       "      <th></th>\n",
       "      <th>0</th>\n",
       "    </tr>\n",
       "  </thead>\n",
       "  <tbody>\n",
       "    <tr>\n",
       "      <th>0</th>\n",
       "      <td>3 PM  Mon 24th-Mar-2014___0.384 kwh</td>\n",
       "    </tr>\n",
       "    <tr>\n",
       "      <th>1</th>\n",
       "      <td>5AM  15-Aug-2014___1.201  kwh</td>\n",
       "    </tr>\n",
       "    <tr>\n",
       "      <th>2</th>\n",
       "      <td>__8PM Thu 20-Mar-2014____1.523 kwh</td>\n",
       "    </tr>\n",
       "    <tr>\n",
       "      <th>3</th>\n",
       "      <td>6PM  23rd-Apr-2014___0.424  kwh</td>\n",
       "    </tr>\n",
       "    <tr>\n",
       "      <th>4</th>\n",
       "      <td>_1AM  Friday 19th-Dec-2014___0.209  kwh</td>\n",
       "    </tr>\n",
       "  </tbody>\n",
       "</table>\n",
       "</div>"
      ],
      "text/plain": [
       "                                           0\n",
       "0      3 PM  Mon 24th-Mar-2014___0.384 kwh  \n",
       "1             5AM  15-Aug-2014___1.201  kwh \n",
       "2       __8PM Thu 20-Mar-2014____1.523 kwh  \n",
       "3            6PM  23rd-Apr-2014___0.424  kwh\n",
       "4  _1AM  Friday 19th-Dec-2014___0.209  kwh  "
      ]
     },
     "execution_count": 3,
     "metadata": {},
     "output_type": "execute_result"
    }
   ],
   "source": [
    "df = pd.read_excel('./data_cleaning.xlsx', sheet_name='Usage', header=None)\n",
    "\n",
    "df.head()"
   ]
  },
  {
   "cell_type": "markdown",
   "id": "db16e414",
   "metadata": {},
   "source": [
    "## Data processing\n",
    "\n",
    "- Extracting a Date column from the raw data"
   ]
  },
  {
   "cell_type": "code",
   "execution_count": 4,
   "id": "bf2729a5",
   "metadata": {
    "scrolled": true
   },
   "outputs": [
    {
     "name": "stdout",
     "output_type": "stream",
     "text": [
      " 3 PM  Mon 24th-Mar-2014___0.384 kwh  \n",
      "5AM  15-Aug-2014___1.201  kwh \n"
     ]
    }
   ],
   "source": [
    "test_1 = df.iloc[0][0]\n",
    "\n",
    "test_2 = df.iloc[1][0]\n",
    "\n",
    "print(test_1,test_2, sep='\\n')"
   ]
  },
  {
   "cell_type": "markdown",
   "id": "8eb3c886",
   "metadata": {},
   "source": [
    "- Creating patterns to extract the Data needed for creating columns"
   ]
  },
  {
   "cell_type": "code",
   "execution_count": 5,
   "id": "8587fec6",
   "metadata": {},
   "outputs": [],
   "source": [
    "pattern_1 = r'[\\s_]+(\\d{1,2})\\s?((?:AM|PM)).+?(\\d{1,2})(?:th|nd|rd|st)?-([A-z]+)-(\\d{1,4})'\n",
    "\n",
    "pattern_2 = r'([\\d{1,2}])+\\s?((?:AM|PM)).+?(\\d{1,2})(?:th|nd|rd|st)?-([A-z]+)-(\\d{1,4})'\n",
    "\n",
    "pattern_3 = r'(?<=\\_)[0-9]+(?=\\.).+(?<=\\.)[0-9]+(?=\\\\)?'\n",
    "\n",
    "pattern_4 = r'(?:[a-z]+\\s)?(kwh)\\s*$'\n",
    "\n",
    "pattern_5 = r'^[\\s_]*([0-9]+)'\n",
    "\n",
    "pattern_6 = r'(?:AM|PM)'\n",
    "\n",
    "pattern_7 = r'(?<=\\-)[A-Z]+(?=\\-)?..'"
   ]
  },
  {
   "cell_type": "code",
   "execution_count": 6,
   "id": "cf5e97a3",
   "metadata": {},
   "outputs": [
    {
     "data": {
      "text/plain": [
       "['Mar']"
      ]
     },
     "execution_count": 6,
     "metadata": {},
     "output_type": "execute_result"
    }
   ],
   "source": [
    "script = re.findall(pattern_7, test_1)\n",
    "script\n",
    "#pd.DataFrame(script).apply(lambda x:f'{x[2]}-{x[3]}-{x[4]}',axis = 1)"
   ]
  },
  {
   "cell_type": "markdown",
   "id": "e2d24bca",
   "metadata": {},
   "source": [
    "- Extracting dates from the Raw Data"
   ]
  },
  {
   "cell_type": "code",
   "execution_count": 7,
   "id": "a16b16cb",
   "metadata": {},
   "outputs": [],
   "source": [
    "Dates = []\n",
    "\n",
    "for index, row in df.iterrows():\n",
    "    dates = row[0]\n",
    "    \n",
    "    if len(re.findall(pattern_1, dates))>0:\n",
    "        \n",
    "        dates = re.findall(pattern_1, dates)\n",
    "    else:\n",
    "        dates = re.findall(pattern_2, dates)\n",
    "        \n",
    "    dates = pd.DataFrame(dates).apply(lambda x:f'{x[2]}-{x[3]}-{x[4]}',axis = 1)\n",
    "    Dates.append(dates.values.tolist())\n",
    "    \n",
    "df['Dates'] = Dates"
   ]
  },
  {
   "cell_type": "code",
   "execution_count": 8,
   "id": "53233a4a",
   "metadata": {},
   "outputs": [],
   "source": [
    "df['Dates'] =df['Dates'].apply(lambda x: x[0])"
   ]
  },
  {
   "cell_type": "code",
   "execution_count": 9,
   "id": "3892d95f",
   "metadata": {
    "scrolled": true
   },
   "outputs": [
    {
     "data": {
      "text/html": [
       "<div>\n",
       "<style scoped>\n",
       "    .dataframe tbody tr th:only-of-type {\n",
       "        vertical-align: middle;\n",
       "    }\n",
       "\n",
       "    .dataframe tbody tr th {\n",
       "        vertical-align: top;\n",
       "    }\n",
       "\n",
       "    .dataframe thead th {\n",
       "        text-align: right;\n",
       "    }\n",
       "</style>\n",
       "<table border=\"1\" class=\"dataframe\">\n",
       "  <thead>\n",
       "    <tr style=\"text-align: right;\">\n",
       "      <th></th>\n",
       "      <th>0</th>\n",
       "      <th>Dates</th>\n",
       "    </tr>\n",
       "  </thead>\n",
       "  <tbody>\n",
       "    <tr>\n",
       "      <th>0</th>\n",
       "      <td>3 PM  Mon 24th-Mar-2014___0.384 kwh</td>\n",
       "      <td>24-Mar-2014</td>\n",
       "    </tr>\n",
       "    <tr>\n",
       "      <th>1</th>\n",
       "      <td>5AM  15-Aug-2014___1.201  kwh</td>\n",
       "      <td>15-Aug-2014</td>\n",
       "    </tr>\n",
       "    <tr>\n",
       "      <th>2</th>\n",
       "      <td>__8PM Thu 20-Mar-2014____1.523 kwh</td>\n",
       "      <td>20-Mar-2014</td>\n",
       "    </tr>\n",
       "    <tr>\n",
       "      <th>3</th>\n",
       "      <td>6PM  23rd-Apr-2014___0.424  kwh</td>\n",
       "      <td>23-Apr-2014</td>\n",
       "    </tr>\n",
       "    <tr>\n",
       "      <th>4</th>\n",
       "      <td>_1AM  Friday 19th-Dec-2014___0.209  kwh</td>\n",
       "      <td>19-Dec-2014</td>\n",
       "    </tr>\n",
       "  </tbody>\n",
       "</table>\n",
       "</div>"
      ],
      "text/plain": [
       "                                           0        Dates\n",
       "0      3 PM  Mon 24th-Mar-2014___0.384 kwh    24-Mar-2014\n",
       "1             5AM  15-Aug-2014___1.201  kwh   15-Aug-2014\n",
       "2       __8PM Thu 20-Mar-2014____1.523 kwh    20-Mar-2014\n",
       "3            6PM  23rd-Apr-2014___0.424  kwh  23-Apr-2014\n",
       "4  _1AM  Friday 19th-Dec-2014___0.209  kwh    19-Dec-2014"
      ]
     },
     "execution_count": 9,
     "metadata": {},
     "output_type": "execute_result"
    }
   ],
   "source": [
    "df.head()"
   ]
  },
  {
   "cell_type": "markdown",
   "id": "29c6dc78",
   "metadata": {},
   "source": [
    "- Extracting kwh values from the Raw Data"
   ]
  },
  {
   "cell_type": "markdown",
   "id": "23c6c0c8",
   "metadata": {},
   "source": [
    "### Values"
   ]
  },
  {
   "cell_type": "code",
   "execution_count": 10,
   "id": "b24f55b0",
   "metadata": {},
   "outputs": [],
   "source": [
    "Values = []\n",
    "\n",
    "for index, row in df.iterrows():\n",
    "    values = row[0]\n",
    "    values = re.findall(pattern_3, values)\n",
    "    \n",
    "    Values.append(values)\n",
    "df['Values'] = Values\n",
    "\n",
    "df['Values'] =df['Values'].apply(lambda x: x[0])"
   ]
  },
  {
   "cell_type": "code",
   "execution_count": 11,
   "id": "ec2fef5a",
   "metadata": {},
   "outputs": [
    {
     "data": {
      "text/html": [
       "<div>\n",
       "<style scoped>\n",
       "    .dataframe tbody tr th:only-of-type {\n",
       "        vertical-align: middle;\n",
       "    }\n",
       "\n",
       "    .dataframe tbody tr th {\n",
       "        vertical-align: top;\n",
       "    }\n",
       "\n",
       "    .dataframe thead th {\n",
       "        text-align: right;\n",
       "    }\n",
       "</style>\n",
       "<table border=\"1\" class=\"dataframe\">\n",
       "  <thead>\n",
       "    <tr style=\"text-align: right;\">\n",
       "      <th></th>\n",
       "      <th>0</th>\n",
       "      <th>Dates</th>\n",
       "      <th>Values</th>\n",
       "    </tr>\n",
       "  </thead>\n",
       "  <tbody>\n",
       "    <tr>\n",
       "      <th>0</th>\n",
       "      <td>3 PM  Mon 24th-Mar-2014___0.384 kwh</td>\n",
       "      <td>24-Mar-2014</td>\n",
       "      <td>0.384</td>\n",
       "    </tr>\n",
       "    <tr>\n",
       "      <th>1</th>\n",
       "      <td>5AM  15-Aug-2014___1.201  kwh</td>\n",
       "      <td>15-Aug-2014</td>\n",
       "      <td>1.201</td>\n",
       "    </tr>\n",
       "    <tr>\n",
       "      <th>2</th>\n",
       "      <td>__8PM Thu 20-Mar-2014____1.523 kwh</td>\n",
       "      <td>20-Mar-2014</td>\n",
       "      <td>1.523</td>\n",
       "    </tr>\n",
       "    <tr>\n",
       "      <th>3</th>\n",
       "      <td>6PM  23rd-Apr-2014___0.424  kwh</td>\n",
       "      <td>23-Apr-2014</td>\n",
       "      <td>0.424</td>\n",
       "    </tr>\n",
       "    <tr>\n",
       "      <th>4</th>\n",
       "      <td>_1AM  Friday 19th-Dec-2014___0.209  kwh</td>\n",
       "      <td>19-Dec-2014</td>\n",
       "      <td>0.209</td>\n",
       "    </tr>\n",
       "  </tbody>\n",
       "</table>\n",
       "</div>"
      ],
      "text/plain": [
       "                                           0        Dates Values\n",
       "0      3 PM  Mon 24th-Mar-2014___0.384 kwh    24-Mar-2014  0.384\n",
       "1             5AM  15-Aug-2014___1.201  kwh   15-Aug-2014  1.201\n",
       "2       __8PM Thu 20-Mar-2014____1.523 kwh    20-Mar-2014  1.523\n",
       "3            6PM  23rd-Apr-2014___0.424  kwh  23-Apr-2014  0.424\n",
       "4  _1AM  Friday 19th-Dec-2014___0.209  kwh    19-Dec-2014  0.209"
      ]
     },
     "execution_count": 11,
     "metadata": {},
     "output_type": "execute_result"
    }
   ],
   "source": [
    "df.head()"
   ]
  },
  {
   "cell_type": "markdown",
   "id": "13e1ee41",
   "metadata": {},
   "source": [
    "- Extracting units from the Raw Data"
   ]
  },
  {
   "cell_type": "markdown",
   "id": "6227fbd4",
   "metadata": {},
   "source": [
    "### Units"
   ]
  },
  {
   "cell_type": "code",
   "execution_count": 12,
   "id": "e9f42420",
   "metadata": {},
   "outputs": [
    {
     "data": {
      "text/html": [
       "<div>\n",
       "<style scoped>\n",
       "    .dataframe tbody tr th:only-of-type {\n",
       "        vertical-align: middle;\n",
       "    }\n",
       "\n",
       "    .dataframe tbody tr th {\n",
       "        vertical-align: top;\n",
       "    }\n",
       "\n",
       "    .dataframe thead th {\n",
       "        text-align: right;\n",
       "    }\n",
       "</style>\n",
       "<table border=\"1\" class=\"dataframe\">\n",
       "  <thead>\n",
       "    <tr style=\"text-align: right;\">\n",
       "      <th></th>\n",
       "      <th>0</th>\n",
       "      <th>Dates</th>\n",
       "      <th>Values</th>\n",
       "      <th>Units</th>\n",
       "    </tr>\n",
       "  </thead>\n",
       "  <tbody>\n",
       "    <tr>\n",
       "      <th>0</th>\n",
       "      <td>3 PM  Mon 24th-Mar-2014___0.384 kwh</td>\n",
       "      <td>24-Mar-2014</td>\n",
       "      <td>0.384</td>\n",
       "      <td>kwh</td>\n",
       "    </tr>\n",
       "    <tr>\n",
       "      <th>1</th>\n",
       "      <td>5AM  15-Aug-2014___1.201  kwh</td>\n",
       "      <td>15-Aug-2014</td>\n",
       "      <td>1.201</td>\n",
       "      <td>kwh</td>\n",
       "    </tr>\n",
       "    <tr>\n",
       "      <th>2</th>\n",
       "      <td>__8PM Thu 20-Mar-2014____1.523 kwh</td>\n",
       "      <td>20-Mar-2014</td>\n",
       "      <td>1.523</td>\n",
       "      <td>kwh</td>\n",
       "    </tr>\n",
       "    <tr>\n",
       "      <th>3</th>\n",
       "      <td>6PM  23rd-Apr-2014___0.424  kwh</td>\n",
       "      <td>23-Apr-2014</td>\n",
       "      <td>0.424</td>\n",
       "      <td>kwh</td>\n",
       "    </tr>\n",
       "    <tr>\n",
       "      <th>4</th>\n",
       "      <td>_1AM  Friday 19th-Dec-2014___0.209  kwh</td>\n",
       "      <td>19-Dec-2014</td>\n",
       "      <td>0.209</td>\n",
       "      <td>kwh</td>\n",
       "    </tr>\n",
       "  </tbody>\n",
       "</table>\n",
       "</div>"
      ],
      "text/plain": [
       "                                           0        Dates Values Units\n",
       "0      3 PM  Mon 24th-Mar-2014___0.384 kwh    24-Mar-2014  0.384   kwh\n",
       "1             5AM  15-Aug-2014___1.201  kwh   15-Aug-2014  1.201   kwh\n",
       "2       __8PM Thu 20-Mar-2014____1.523 kwh    20-Mar-2014  1.523   kwh\n",
       "3            6PM  23rd-Apr-2014___0.424  kwh  23-Apr-2014  0.424   kwh\n",
       "4  _1AM  Friday 19th-Dec-2014___0.209  kwh    19-Dec-2014  0.209   kwh"
      ]
     },
     "execution_count": 12,
     "metadata": {},
     "output_type": "execute_result"
    }
   ],
   "source": [
    "Units = []\n",
    "\n",
    "for index, row in df.iterrows():\n",
    "    units = row[0]\n",
    "    units = re.findall(pattern_4, units)\n",
    "    \n",
    "    Units.append(units)\n",
    "df['Units'] = Units\n",
    "\n",
    "df['Units'] =df['Units'].apply(lambda x: x[0])\n",
    "\n",
    "df.head()"
   ]
  },
  {
   "cell_type": "markdown",
   "id": "7d124eff",
   "metadata": {},
   "source": [
    "- Extracting Hours from Raw Data"
   ]
  },
  {
   "cell_type": "markdown",
   "id": "2b2b2e9e",
   "metadata": {},
   "source": [
    "### Hours"
   ]
  },
  {
   "cell_type": "code",
   "execution_count": 13,
   "id": "1a7d07c5",
   "metadata": {},
   "outputs": [
    {
     "data": {
      "text/html": [
       "<div>\n",
       "<style scoped>\n",
       "    .dataframe tbody tr th:only-of-type {\n",
       "        vertical-align: middle;\n",
       "    }\n",
       "\n",
       "    .dataframe tbody tr th {\n",
       "        vertical-align: top;\n",
       "    }\n",
       "\n",
       "    .dataframe thead th {\n",
       "        text-align: right;\n",
       "    }\n",
       "</style>\n",
       "<table border=\"1\" class=\"dataframe\">\n",
       "  <thead>\n",
       "    <tr style=\"text-align: right;\">\n",
       "      <th></th>\n",
       "      <th>0</th>\n",
       "      <th>Dates</th>\n",
       "      <th>Values</th>\n",
       "      <th>Units</th>\n",
       "      <th>Hours</th>\n",
       "    </tr>\n",
       "  </thead>\n",
       "  <tbody>\n",
       "    <tr>\n",
       "      <th>0</th>\n",
       "      <td>3 PM  Mon 24th-Mar-2014___0.384 kwh</td>\n",
       "      <td>24-Mar-2014</td>\n",
       "      <td>0.384</td>\n",
       "      <td>kwh</td>\n",
       "      <td>3</td>\n",
       "    </tr>\n",
       "    <tr>\n",
       "      <th>1</th>\n",
       "      <td>5AM  15-Aug-2014___1.201  kwh</td>\n",
       "      <td>15-Aug-2014</td>\n",
       "      <td>1.201</td>\n",
       "      <td>kwh</td>\n",
       "      <td>5</td>\n",
       "    </tr>\n",
       "    <tr>\n",
       "      <th>2</th>\n",
       "      <td>__8PM Thu 20-Mar-2014____1.523 kwh</td>\n",
       "      <td>20-Mar-2014</td>\n",
       "      <td>1.523</td>\n",
       "      <td>kwh</td>\n",
       "      <td>8</td>\n",
       "    </tr>\n",
       "    <tr>\n",
       "      <th>3</th>\n",
       "      <td>6PM  23rd-Apr-2014___0.424  kwh</td>\n",
       "      <td>23-Apr-2014</td>\n",
       "      <td>0.424</td>\n",
       "      <td>kwh</td>\n",
       "      <td>6</td>\n",
       "    </tr>\n",
       "    <tr>\n",
       "      <th>4</th>\n",
       "      <td>_1AM  Friday 19th-Dec-2014___0.209  kwh</td>\n",
       "      <td>19-Dec-2014</td>\n",
       "      <td>0.209</td>\n",
       "      <td>kwh</td>\n",
       "      <td>1</td>\n",
       "    </tr>\n",
       "  </tbody>\n",
       "</table>\n",
       "</div>"
      ],
      "text/plain": [
       "                                           0        Dates Values Units Hours\n",
       "0      3 PM  Mon 24th-Mar-2014___0.384 kwh    24-Mar-2014  0.384   kwh     3\n",
       "1             5AM  15-Aug-2014___1.201  kwh   15-Aug-2014  1.201   kwh     5\n",
       "2       __8PM Thu 20-Mar-2014____1.523 kwh    20-Mar-2014  1.523   kwh     8\n",
       "3            6PM  23rd-Apr-2014___0.424  kwh  23-Apr-2014  0.424   kwh     6\n",
       "4  _1AM  Friday 19th-Dec-2014___0.209  kwh    19-Dec-2014  0.209   kwh     1"
      ]
     },
     "execution_count": 13,
     "metadata": {},
     "output_type": "execute_result"
    }
   ],
   "source": [
    "Hours = []\n",
    "\n",
    "for index, row in df.iterrows():\n",
    "    hours = row[0]\n",
    "    hours = re.findall(pattern_5, hours)\n",
    "    \n",
    "    Hours.append(hours)\n",
    "df['Hours'] = Hours\n",
    "\n",
    "df['Hours'] =df['Hours'].apply(lambda x: x[0])\n",
    "\n",
    "df.head()"
   ]
  },
  {
   "cell_type": "markdown",
   "id": "c92f9b5a",
   "metadata": {},
   "source": [
    "### Time of the day"
   ]
  },
  {
   "cell_type": "code",
   "execution_count": 14,
   "id": "fef07955",
   "metadata": {},
   "outputs": [
    {
     "data": {
      "text/html": [
       "<div>\n",
       "<style scoped>\n",
       "    .dataframe tbody tr th:only-of-type {\n",
       "        vertical-align: middle;\n",
       "    }\n",
       "\n",
       "    .dataframe tbody tr th {\n",
       "        vertical-align: top;\n",
       "    }\n",
       "\n",
       "    .dataframe thead th {\n",
       "        text-align: right;\n",
       "    }\n",
       "</style>\n",
       "<table border=\"1\" class=\"dataframe\">\n",
       "  <thead>\n",
       "    <tr style=\"text-align: right;\">\n",
       "      <th></th>\n",
       "      <th>0</th>\n",
       "      <th>Dates</th>\n",
       "      <th>Values</th>\n",
       "      <th>Units</th>\n",
       "      <th>Hours</th>\n",
       "      <th>AM_PM</th>\n",
       "    </tr>\n",
       "  </thead>\n",
       "  <tbody>\n",
       "    <tr>\n",
       "      <th>0</th>\n",
       "      <td>3 PM  Mon 24th-Mar-2014___0.384 kwh</td>\n",
       "      <td>24-Mar-2014</td>\n",
       "      <td>0.384</td>\n",
       "      <td>kwh</td>\n",
       "      <td>3</td>\n",
       "      <td>PM</td>\n",
       "    </tr>\n",
       "    <tr>\n",
       "      <th>1</th>\n",
       "      <td>5AM  15-Aug-2014___1.201  kwh</td>\n",
       "      <td>15-Aug-2014</td>\n",
       "      <td>1.201</td>\n",
       "      <td>kwh</td>\n",
       "      <td>5</td>\n",
       "      <td>AM</td>\n",
       "    </tr>\n",
       "    <tr>\n",
       "      <th>2</th>\n",
       "      <td>__8PM Thu 20-Mar-2014____1.523 kwh</td>\n",
       "      <td>20-Mar-2014</td>\n",
       "      <td>1.523</td>\n",
       "      <td>kwh</td>\n",
       "      <td>8</td>\n",
       "      <td>PM</td>\n",
       "    </tr>\n",
       "    <tr>\n",
       "      <th>3</th>\n",
       "      <td>6PM  23rd-Apr-2014___0.424  kwh</td>\n",
       "      <td>23-Apr-2014</td>\n",
       "      <td>0.424</td>\n",
       "      <td>kwh</td>\n",
       "      <td>6</td>\n",
       "      <td>PM</td>\n",
       "    </tr>\n",
       "    <tr>\n",
       "      <th>4</th>\n",
       "      <td>_1AM  Friday 19th-Dec-2014___0.209  kwh</td>\n",
       "      <td>19-Dec-2014</td>\n",
       "      <td>0.209</td>\n",
       "      <td>kwh</td>\n",
       "      <td>1</td>\n",
       "      <td>AM</td>\n",
       "    </tr>\n",
       "  </tbody>\n",
       "</table>\n",
       "</div>"
      ],
      "text/plain": [
       "                                           0        Dates Values Units Hours  \\\n",
       "0      3 PM  Mon 24th-Mar-2014___0.384 kwh    24-Mar-2014  0.384   kwh     3   \n",
       "1             5AM  15-Aug-2014___1.201  kwh   15-Aug-2014  1.201   kwh     5   \n",
       "2       __8PM Thu 20-Mar-2014____1.523 kwh    20-Mar-2014  1.523   kwh     8   \n",
       "3            6PM  23rd-Apr-2014___0.424  kwh  23-Apr-2014  0.424   kwh     6   \n",
       "4  _1AM  Friday 19th-Dec-2014___0.209  kwh    19-Dec-2014  0.209   kwh     1   \n",
       "\n",
       "  AM_PM  \n",
       "0    PM  \n",
       "1    AM  \n",
       "2    PM  \n",
       "3    PM  \n",
       "4    AM  "
      ]
     },
     "execution_count": 14,
     "metadata": {},
     "output_type": "execute_result"
    }
   ],
   "source": [
    "Am_Pm = []\n",
    "\n",
    "for index, row in df.iterrows():\n",
    "    am_pm = row[0]\n",
    "    am_pm = re.findall(pattern_6, am_pm)\n",
    "    \n",
    "    Am_Pm.append(am_pm)\n",
    "df['AM_PM'] = Am_Pm\n",
    "\n",
    "df['AM_PM'] =df['AM_PM'].apply(lambda x: x[0])\n",
    "\n",
    "df.head()"
   ]
  },
  {
   "cell_type": "markdown",
   "id": "081bf8eb",
   "metadata": {},
   "source": [
    "- Extracting Months from the Raw Data"
   ]
  },
  {
   "cell_type": "markdown",
   "id": "9f57dca7",
   "metadata": {},
   "source": [
    "### Months"
   ]
  },
  {
   "cell_type": "code",
   "execution_count": 15,
   "id": "9b0c671e",
   "metadata": {},
   "outputs": [
    {
     "data": {
      "text/html": [
       "<div>\n",
       "<style scoped>\n",
       "    .dataframe tbody tr th:only-of-type {\n",
       "        vertical-align: middle;\n",
       "    }\n",
       "\n",
       "    .dataframe tbody tr th {\n",
       "        vertical-align: top;\n",
       "    }\n",
       "\n",
       "    .dataframe thead th {\n",
       "        text-align: right;\n",
       "    }\n",
       "</style>\n",
       "<table border=\"1\" class=\"dataframe\">\n",
       "  <thead>\n",
       "    <tr style=\"text-align: right;\">\n",
       "      <th></th>\n",
       "      <th>0</th>\n",
       "      <th>Dates</th>\n",
       "      <th>Values</th>\n",
       "      <th>Units</th>\n",
       "      <th>Hours</th>\n",
       "      <th>AM_PM</th>\n",
       "      <th>Months</th>\n",
       "    </tr>\n",
       "  </thead>\n",
       "  <tbody>\n",
       "    <tr>\n",
       "      <th>0</th>\n",
       "      <td>3 PM  Mon 24th-Mar-2014___0.384 kwh</td>\n",
       "      <td>24-Mar-2014</td>\n",
       "      <td>0.384</td>\n",
       "      <td>kwh</td>\n",
       "      <td>3</td>\n",
       "      <td>PM</td>\n",
       "      <td>Mar</td>\n",
       "    </tr>\n",
       "    <tr>\n",
       "      <th>1</th>\n",
       "      <td>5AM  15-Aug-2014___1.201  kwh</td>\n",
       "      <td>15-Aug-2014</td>\n",
       "      <td>1.201</td>\n",
       "      <td>kwh</td>\n",
       "      <td>5</td>\n",
       "      <td>AM</td>\n",
       "      <td>Aug</td>\n",
       "    </tr>\n",
       "    <tr>\n",
       "      <th>2</th>\n",
       "      <td>__8PM Thu 20-Mar-2014____1.523 kwh</td>\n",
       "      <td>20-Mar-2014</td>\n",
       "      <td>1.523</td>\n",
       "      <td>kwh</td>\n",
       "      <td>8</td>\n",
       "      <td>PM</td>\n",
       "      <td>Mar</td>\n",
       "    </tr>\n",
       "    <tr>\n",
       "      <th>3</th>\n",
       "      <td>6PM  23rd-Apr-2014___0.424  kwh</td>\n",
       "      <td>23-Apr-2014</td>\n",
       "      <td>0.424</td>\n",
       "      <td>kwh</td>\n",
       "      <td>6</td>\n",
       "      <td>PM</td>\n",
       "      <td>Apr</td>\n",
       "    </tr>\n",
       "    <tr>\n",
       "      <th>4</th>\n",
       "      <td>_1AM  Friday 19th-Dec-2014___0.209  kwh</td>\n",
       "      <td>19-Dec-2014</td>\n",
       "      <td>0.209</td>\n",
       "      <td>kwh</td>\n",
       "      <td>1</td>\n",
       "      <td>AM</td>\n",
       "      <td>Dec</td>\n",
       "    </tr>\n",
       "  </tbody>\n",
       "</table>\n",
       "</div>"
      ],
      "text/plain": [
       "                                           0        Dates Values Units Hours  \\\n",
       "0      3 PM  Mon 24th-Mar-2014___0.384 kwh    24-Mar-2014  0.384   kwh     3   \n",
       "1             5AM  15-Aug-2014___1.201  kwh   15-Aug-2014  1.201   kwh     5   \n",
       "2       __8PM Thu 20-Mar-2014____1.523 kwh    20-Mar-2014  1.523   kwh     8   \n",
       "3            6PM  23rd-Apr-2014___0.424  kwh  23-Apr-2014  0.424   kwh     6   \n",
       "4  _1AM  Friday 19th-Dec-2014___0.209  kwh    19-Dec-2014  0.209   kwh     1   \n",
       "\n",
       "  AM_PM Months  \n",
       "0    PM    Mar  \n",
       "1    AM    Aug  \n",
       "2    PM    Mar  \n",
       "3    PM    Apr  \n",
       "4    AM    Dec  "
      ]
     },
     "execution_count": 15,
     "metadata": {},
     "output_type": "execute_result"
    }
   ],
   "source": [
    "Months = []\n",
    "\n",
    "for index, row in df.iterrows():\n",
    "    months = row[0]\n",
    "    months = re.findall(pattern_7, months)\n",
    "    \n",
    "    Months.append(months)\n",
    "df['Months'] = Months\n",
    "\n",
    "df['Months'] =df['Months'].apply(lambda x: x[0])\n",
    "\n",
    "df.head()"
   ]
  },
  {
   "cell_type": "code",
   "execution_count": 16,
   "id": "bd8153d0",
   "metadata": {},
   "outputs": [],
   "source": [
    "df.drop(0, axis=1, inplace = True)"
   ]
  },
  {
   "cell_type": "code",
   "execution_count": 17,
   "id": "617997df",
   "metadata": {},
   "outputs": [
    {
     "data": {
      "text/html": [
       "<div>\n",
       "<style scoped>\n",
       "    .dataframe tbody tr th:only-of-type {\n",
       "        vertical-align: middle;\n",
       "    }\n",
       "\n",
       "    .dataframe tbody tr th {\n",
       "        vertical-align: top;\n",
       "    }\n",
       "\n",
       "    .dataframe thead th {\n",
       "        text-align: right;\n",
       "    }\n",
       "</style>\n",
       "<table border=\"1\" class=\"dataframe\">\n",
       "  <thead>\n",
       "    <tr style=\"text-align: right;\">\n",
       "      <th></th>\n",
       "      <th>Dates</th>\n",
       "      <th>Values</th>\n",
       "      <th>Units</th>\n",
       "      <th>Hours</th>\n",
       "      <th>AM_PM</th>\n",
       "      <th>Months</th>\n",
       "    </tr>\n",
       "  </thead>\n",
       "  <tbody>\n",
       "    <tr>\n",
       "      <th>0</th>\n",
       "      <td>24-Mar-2014</td>\n",
       "      <td>0.384</td>\n",
       "      <td>kwh</td>\n",
       "      <td>3</td>\n",
       "      <td>PM</td>\n",
       "      <td>Mar</td>\n",
       "    </tr>\n",
       "    <tr>\n",
       "      <th>1</th>\n",
       "      <td>15-Aug-2014</td>\n",
       "      <td>1.201</td>\n",
       "      <td>kwh</td>\n",
       "      <td>5</td>\n",
       "      <td>AM</td>\n",
       "      <td>Aug</td>\n",
       "    </tr>\n",
       "    <tr>\n",
       "      <th>2</th>\n",
       "      <td>20-Mar-2014</td>\n",
       "      <td>1.523</td>\n",
       "      <td>kwh</td>\n",
       "      <td>8</td>\n",
       "      <td>PM</td>\n",
       "      <td>Mar</td>\n",
       "    </tr>\n",
       "    <tr>\n",
       "      <th>3</th>\n",
       "      <td>23-Apr-2014</td>\n",
       "      <td>0.424</td>\n",
       "      <td>kwh</td>\n",
       "      <td>6</td>\n",
       "      <td>PM</td>\n",
       "      <td>Apr</td>\n",
       "    </tr>\n",
       "    <tr>\n",
       "      <th>4</th>\n",
       "      <td>19-Dec-2014</td>\n",
       "      <td>0.209</td>\n",
       "      <td>kwh</td>\n",
       "      <td>1</td>\n",
       "      <td>AM</td>\n",
       "      <td>Dec</td>\n",
       "    </tr>\n",
       "  </tbody>\n",
       "</table>\n",
       "</div>"
      ],
      "text/plain": [
       "         Dates Values Units Hours AM_PM Months\n",
       "0  24-Mar-2014  0.384   kwh     3    PM    Mar\n",
       "1  15-Aug-2014  1.201   kwh     5    AM    Aug\n",
       "2  20-Mar-2014  1.523   kwh     8    PM    Mar\n",
       "3  23-Apr-2014  0.424   kwh     6    PM    Apr\n",
       "4  19-Dec-2014  0.209   kwh     1    AM    Dec"
      ]
     },
     "execution_count": 17,
     "metadata": {},
     "output_type": "execute_result"
    }
   ],
   "source": [
    "df.head()"
   ]
  },
  {
   "cell_type": "code",
   "execution_count": 18,
   "id": "9f12207a",
   "metadata": {},
   "outputs": [
    {
     "data": {
      "text/html": [
       "<div>\n",
       "<style scoped>\n",
       "    .dataframe tbody tr th:only-of-type {\n",
       "        vertical-align: middle;\n",
       "    }\n",
       "\n",
       "    .dataframe tbody tr th {\n",
       "        vertical-align: top;\n",
       "    }\n",
       "\n",
       "    .dataframe thead th {\n",
       "        text-align: right;\n",
       "    }\n",
       "</style>\n",
       "<table border=\"1\" class=\"dataframe\">\n",
       "  <thead>\n",
       "    <tr style=\"text-align: right;\">\n",
       "      <th></th>\n",
       "      <th>Values</th>\n",
       "      <th>Units</th>\n",
       "      <th>Hours</th>\n",
       "      <th>AM_PM</th>\n",
       "      <th>Months</th>\n",
       "    </tr>\n",
       "    <tr>\n",
       "      <th>Dates</th>\n",
       "      <th></th>\n",
       "      <th></th>\n",
       "      <th></th>\n",
       "      <th></th>\n",
       "      <th></th>\n",
       "    </tr>\n",
       "  </thead>\n",
       "  <tbody>\n",
       "    <tr>\n",
       "      <th>01-Apr-2014</th>\n",
       "      <td>0.052</td>\n",
       "      <td>kwh</td>\n",
       "      <td>10</td>\n",
       "      <td>AM</td>\n",
       "      <td>Apr</td>\n",
       "    </tr>\n",
       "    <tr>\n",
       "      <th>01-Aug-2014</th>\n",
       "      <td>0.264</td>\n",
       "      <td>kwh</td>\n",
       "      <td>10</td>\n",
       "      <td>AM</td>\n",
       "      <td>Aug</td>\n",
       "    </tr>\n",
       "    <tr>\n",
       "      <th>01-Dec-2014</th>\n",
       "      <td>0.185</td>\n",
       "      <td>kwh</td>\n",
       "      <td>10</td>\n",
       "      <td>AM</td>\n",
       "      <td>Dec</td>\n",
       "    </tr>\n",
       "    <tr>\n",
       "      <th>01-Feb-2014</th>\n",
       "      <td>0.374</td>\n",
       "      <td>kwh</td>\n",
       "      <td>10</td>\n",
       "      <td>AM</td>\n",
       "      <td>Feb</td>\n",
       "    </tr>\n",
       "    <tr>\n",
       "      <th>01-Jan-2014</th>\n",
       "      <td>0.332</td>\n",
       "      <td>kwh</td>\n",
       "      <td>1</td>\n",
       "      <td>AM</td>\n",
       "      <td>Jan</td>\n",
       "    </tr>\n",
       "    <tr>\n",
       "      <th>...</th>\n",
       "      <td>...</td>\n",
       "      <td>...</td>\n",
       "      <td>...</td>\n",
       "      <td>...</td>\n",
       "      <td>...</td>\n",
       "    </tr>\n",
       "    <tr>\n",
       "      <th>9-Mar-2014</th>\n",
       "      <td>0.218</td>\n",
       "      <td>kwh</td>\n",
       "      <td>1</td>\n",
       "      <td>AM</td>\n",
       "      <td>Mar</td>\n",
       "    </tr>\n",
       "    <tr>\n",
       "      <th>9-May-2014</th>\n",
       "      <td>0.138</td>\n",
       "      <td>kwh</td>\n",
       "      <td>1</td>\n",
       "      <td>AM</td>\n",
       "      <td>May</td>\n",
       "    </tr>\n",
       "    <tr>\n",
       "      <th>9-Nov-2014</th>\n",
       "      <td>0.123</td>\n",
       "      <td>kwh</td>\n",
       "      <td>1</td>\n",
       "      <td>AM</td>\n",
       "      <td>Nov</td>\n",
       "    </tr>\n",
       "    <tr>\n",
       "      <th>9-Oct-2014</th>\n",
       "      <td>0.098</td>\n",
       "      <td>kwh</td>\n",
       "      <td>1</td>\n",
       "      <td>AM</td>\n",
       "      <td>Oct</td>\n",
       "    </tr>\n",
       "    <tr>\n",
       "      <th>9-Sep-2014</th>\n",
       "      <td>0.123</td>\n",
       "      <td>kwh</td>\n",
       "      <td>1</td>\n",
       "      <td>AM</td>\n",
       "      <td>Sep</td>\n",
       "    </tr>\n",
       "  </tbody>\n",
       "</table>\n",
       "<p>473 rows × 5 columns</p>\n",
       "</div>"
      ],
      "text/plain": [
       "            Values Units Hours AM_PM Months\n",
       "Dates                                      \n",
       "01-Apr-2014  0.052   kwh    10    AM    Apr\n",
       "01-Aug-2014  0.264   kwh    10    AM    Aug\n",
       "01-Dec-2014  0.185   kwh    10    AM    Dec\n",
       "01-Feb-2014  0.374   kwh    10    AM    Feb\n",
       "01-Jan-2014  0.332   kwh     1    AM    Jan\n",
       "...            ...   ...   ...   ...    ...\n",
       "9-Mar-2014   0.218   kwh     1    AM    Mar\n",
       "9-May-2014   0.138   kwh     1    AM    May\n",
       "9-Nov-2014   0.123   kwh     1    AM    Nov\n",
       "9-Oct-2014   0.098   kwh     1    AM    Oct\n",
       "9-Sep-2014   0.123   kwh     1    AM    Sep\n",
       "\n",
       "[473 rows x 5 columns]"
      ]
     },
     "execution_count": 18,
     "metadata": {},
     "output_type": "execute_result"
    }
   ],
   "source": [
    "df.groupby(by = 'Dates').min()"
   ]
  },
  {
   "cell_type": "markdown",
   "id": "11fe01f3",
   "metadata": {},
   "source": [
    "### With the help of the map() function assigning the Months with their appropriate numbers during a whole year"
   ]
  },
  {
   "cell_type": "code",
   "execution_count": 19,
   "id": "f13f4bad",
   "metadata": {},
   "outputs": [],
   "source": [
    "df['Dates']=pd.to_datetime(df['Dates'], format ='%d-%b-%Y' )\n",
    "\n",
    "df['Hours'] = pd.to_numeric(df['Hours'])\n",
    "\n",
    "df['Values'] = pd.to_numeric(df['Values'])\n",
    "\n",
    "months = {'Jan':1, 'Feb':2, 'Mar':3, 'Apr':4, 'May':5, \n",
    "         'Jun':6, 'Jul':7, 'Aug':8, 'Sep':9, 'Oct':10,\n",
    "         'Nov':11, 'Dec':12}\n",
    "\n",
    "df['Months']=df['Months'].map(months)"
   ]
  },
  {
   "cell_type": "code",
   "execution_count": 20,
   "id": "c2f52342",
   "metadata": {},
   "outputs": [
    {
     "data": {
      "text/html": [
       "<div>\n",
       "<style scoped>\n",
       "    .dataframe tbody tr th:only-of-type {\n",
       "        vertical-align: middle;\n",
       "    }\n",
       "\n",
       "    .dataframe tbody tr th {\n",
       "        vertical-align: top;\n",
       "    }\n",
       "\n",
       "    .dataframe thead th {\n",
       "        text-align: right;\n",
       "    }\n",
       "</style>\n",
       "<table border=\"1\" class=\"dataframe\">\n",
       "  <thead>\n",
       "    <tr style=\"text-align: right;\">\n",
       "      <th></th>\n",
       "      <th>Dates</th>\n",
       "      <th>Values</th>\n",
       "      <th>Units</th>\n",
       "      <th>Hours</th>\n",
       "      <th>AM_PM</th>\n",
       "      <th>Months</th>\n",
       "    </tr>\n",
       "  </thead>\n",
       "  <tbody>\n",
       "    <tr>\n",
       "      <th>0</th>\n",
       "      <td>2014-03-24</td>\n",
       "      <td>0.384</td>\n",
       "      <td>kwh</td>\n",
       "      <td>3</td>\n",
       "      <td>PM</td>\n",
       "      <td>3</td>\n",
       "    </tr>\n",
       "    <tr>\n",
       "      <th>1</th>\n",
       "      <td>2014-08-15</td>\n",
       "      <td>1.201</td>\n",
       "      <td>kwh</td>\n",
       "      <td>5</td>\n",
       "      <td>AM</td>\n",
       "      <td>8</td>\n",
       "    </tr>\n",
       "    <tr>\n",
       "      <th>2</th>\n",
       "      <td>2014-03-20</td>\n",
       "      <td>1.523</td>\n",
       "      <td>kwh</td>\n",
       "      <td>8</td>\n",
       "      <td>PM</td>\n",
       "      <td>3</td>\n",
       "    </tr>\n",
       "    <tr>\n",
       "      <th>3</th>\n",
       "      <td>2014-04-23</td>\n",
       "      <td>0.424</td>\n",
       "      <td>kwh</td>\n",
       "      <td>6</td>\n",
       "      <td>PM</td>\n",
       "      <td>4</td>\n",
       "    </tr>\n",
       "    <tr>\n",
       "      <th>4</th>\n",
       "      <td>2014-12-19</td>\n",
       "      <td>0.209</td>\n",
       "      <td>kwh</td>\n",
       "      <td>1</td>\n",
       "      <td>AM</td>\n",
       "      <td>12</td>\n",
       "    </tr>\n",
       "  </tbody>\n",
       "</table>\n",
       "</div>"
      ],
      "text/plain": [
       "       Dates  Values Units  Hours AM_PM  Months\n",
       "0 2014-03-24   0.384   kwh      3    PM       3\n",
       "1 2014-08-15   1.201   kwh      5    AM       8\n",
       "2 2014-03-20   1.523   kwh      8    PM       3\n",
       "3 2014-04-23   0.424   kwh      6    PM       4\n",
       "4 2014-12-19   0.209   kwh      1    AM      12"
      ]
     },
     "execution_count": 20,
     "metadata": {},
     "output_type": "execute_result"
    }
   ],
   "source": [
    "df.head()"
   ]
  },
  {
   "cell_type": "markdown",
   "id": "0850ffb0",
   "metadata": {},
   "source": [
    "### Identifying an average hourly electricity rate"
   ]
  },
  {
   "cell_type": "code",
   "execution_count": 21,
   "id": "2a6810f3",
   "metadata": {},
   "outputs": [],
   "source": [
    "hr_usage=df.groupby(by = 'Hours').mean()['Values']"
   ]
  },
  {
   "cell_type": "code",
   "execution_count": 22,
   "id": "440f1071",
   "metadata": {},
   "outputs": [
    {
     "data": {
      "text/plain": [
       "0.7816459119848497"
      ]
     },
     "execution_count": 22,
     "metadata": {},
     "output_type": "execute_result"
    }
   ],
   "source": [
    "hr_usage.mean()"
   ]
  },
  {
   "cell_type": "markdown",
   "id": "83143c06",
   "metadata": {},
   "source": [
    "### Looking for an average electricity usage per hour in Fevruary"
   ]
  },
  {
   "cell_type": "code",
   "execution_count": 23,
   "id": "ef08c72e",
   "metadata": {},
   "outputs": [],
   "source": [
    "feb_hr_usage= df[df['Months']==2].groupby(by = 'Hours').mean()['Values']"
   ]
  },
  {
   "cell_type": "code",
   "execution_count": 24,
   "id": "e5cf51b2",
   "metadata": {},
   "outputs": [
    {
     "data": {
      "text/plain": [
       "0.8331759740259742"
      ]
     },
     "execution_count": 24,
     "metadata": {},
     "output_type": "execute_result"
    }
   ],
   "source": [
    "feb_hr_usage.mean()"
   ]
  },
  {
   "cell_type": "code",
   "execution_count": 25,
   "id": "404cc591",
   "metadata": {},
   "outputs": [
    {
     "data": {
      "text/html": [
       "<div>\n",
       "<style scoped>\n",
       "    .dataframe tbody tr th:only-of-type {\n",
       "        vertical-align: middle;\n",
       "    }\n",
       "\n",
       "    .dataframe tbody tr th {\n",
       "        vertical-align: top;\n",
       "    }\n",
       "\n",
       "    .dataframe thead th {\n",
       "        text-align: right;\n",
       "    }\n",
       "</style>\n",
       "<table border=\"1\" class=\"dataframe\">\n",
       "  <thead>\n",
       "    <tr style=\"text-align: right;\">\n",
       "      <th></th>\n",
       "      <th>Dates</th>\n",
       "      <th>Values</th>\n",
       "      <th>Units</th>\n",
       "      <th>Hours</th>\n",
       "      <th>AM_PM</th>\n",
       "      <th>Months</th>\n",
       "    </tr>\n",
       "  </thead>\n",
       "  <tbody>\n",
       "    <tr>\n",
       "      <th>0</th>\n",
       "      <td>2014-03-24</td>\n",
       "      <td>0.384</td>\n",
       "      <td>kwh</td>\n",
       "      <td>3</td>\n",
       "      <td>PM</td>\n",
       "      <td>3</td>\n",
       "    </tr>\n",
       "    <tr>\n",
       "      <th>1</th>\n",
       "      <td>2014-08-15</td>\n",
       "      <td>1.201</td>\n",
       "      <td>kwh</td>\n",
       "      <td>5</td>\n",
       "      <td>AM</td>\n",
       "      <td>8</td>\n",
       "    </tr>\n",
       "    <tr>\n",
       "      <th>2</th>\n",
       "      <td>2014-03-20</td>\n",
       "      <td>1.523</td>\n",
       "      <td>kwh</td>\n",
       "      <td>8</td>\n",
       "      <td>PM</td>\n",
       "      <td>3</td>\n",
       "    </tr>\n",
       "    <tr>\n",
       "      <th>3</th>\n",
       "      <td>2014-04-23</td>\n",
       "      <td>0.424</td>\n",
       "      <td>kwh</td>\n",
       "      <td>6</td>\n",
       "      <td>PM</td>\n",
       "      <td>4</td>\n",
       "    </tr>\n",
       "    <tr>\n",
       "      <th>4</th>\n",
       "      <td>2014-12-19</td>\n",
       "      <td>0.209</td>\n",
       "      <td>kwh</td>\n",
       "      <td>1</td>\n",
       "      <td>AM</td>\n",
       "      <td>12</td>\n",
       "    </tr>\n",
       "  </tbody>\n",
       "</table>\n",
       "</div>"
      ],
      "text/plain": [
       "       Dates  Values Units  Hours AM_PM  Months\n",
       "0 2014-03-24   0.384   kwh      3    PM       3\n",
       "1 2014-08-15   1.201   kwh      5    AM       8\n",
       "2 2014-03-20   1.523   kwh      8    PM       3\n",
       "3 2014-04-23   0.424   kwh      6    PM       4\n",
       "4 2014-12-19   0.209   kwh      1    AM      12"
      ]
     },
     "execution_count": 25,
     "metadata": {},
     "output_type": "execute_result"
    }
   ],
   "source": [
    "df.head()"
   ]
  },
  {
   "cell_type": "markdown",
   "id": "f58c6dcb",
   "metadata": {},
   "source": [
    "### We see that Sunday with the 0.898601 kwh has the highest average electricity usage"
   ]
  },
  {
   "cell_type": "code",
   "execution_count": 26,
   "id": "6ab5eaa2",
   "metadata": {},
   "outputs": [],
   "source": [
    "df['Week_days'] = df['Dates'].dt.day_name()"
   ]
  },
  {
   "cell_type": "code",
   "execution_count": 27,
   "id": "b79e0fdc",
   "metadata": {},
   "outputs": [
    {
     "data": {
      "text/html": [
       "<div>\n",
       "<style scoped>\n",
       "    .dataframe tbody tr th:only-of-type {\n",
       "        vertical-align: middle;\n",
       "    }\n",
       "\n",
       "    .dataframe tbody tr th {\n",
       "        vertical-align: top;\n",
       "    }\n",
       "\n",
       "    .dataframe thead th {\n",
       "        text-align: right;\n",
       "    }\n",
       "</style>\n",
       "<table border=\"1\" class=\"dataframe\">\n",
       "  <thead>\n",
       "    <tr style=\"text-align: right;\">\n",
       "      <th></th>\n",
       "      <th>Dates</th>\n",
       "      <th>Values</th>\n",
       "      <th>Units</th>\n",
       "      <th>Hours</th>\n",
       "      <th>AM_PM</th>\n",
       "      <th>Months</th>\n",
       "      <th>Week_days</th>\n",
       "    </tr>\n",
       "  </thead>\n",
       "  <tbody>\n",
       "    <tr>\n",
       "      <th>0</th>\n",
       "      <td>2014-03-24</td>\n",
       "      <td>0.384</td>\n",
       "      <td>kwh</td>\n",
       "      <td>3</td>\n",
       "      <td>PM</td>\n",
       "      <td>3</td>\n",
       "      <td>Monday</td>\n",
       "    </tr>\n",
       "    <tr>\n",
       "      <th>1</th>\n",
       "      <td>2014-08-15</td>\n",
       "      <td>1.201</td>\n",
       "      <td>kwh</td>\n",
       "      <td>5</td>\n",
       "      <td>AM</td>\n",
       "      <td>8</td>\n",
       "      <td>Friday</td>\n",
       "    </tr>\n",
       "    <tr>\n",
       "      <th>2</th>\n",
       "      <td>2014-03-20</td>\n",
       "      <td>1.523</td>\n",
       "      <td>kwh</td>\n",
       "      <td>8</td>\n",
       "      <td>PM</td>\n",
       "      <td>3</td>\n",
       "      <td>Thursday</td>\n",
       "    </tr>\n",
       "    <tr>\n",
       "      <th>3</th>\n",
       "      <td>2014-04-23</td>\n",
       "      <td>0.424</td>\n",
       "      <td>kwh</td>\n",
       "      <td>6</td>\n",
       "      <td>PM</td>\n",
       "      <td>4</td>\n",
       "      <td>Wednesday</td>\n",
       "    </tr>\n",
       "    <tr>\n",
       "      <th>4</th>\n",
       "      <td>2014-12-19</td>\n",
       "      <td>0.209</td>\n",
       "      <td>kwh</td>\n",
       "      <td>1</td>\n",
       "      <td>AM</td>\n",
       "      <td>12</td>\n",
       "      <td>Friday</td>\n",
       "    </tr>\n",
       "  </tbody>\n",
       "</table>\n",
       "</div>"
      ],
      "text/plain": [
       "       Dates  Values Units  Hours AM_PM  Months  Week_days\n",
       "0 2014-03-24   0.384   kwh      3    PM       3     Monday\n",
       "1 2014-08-15   1.201   kwh      5    AM       8     Friday\n",
       "2 2014-03-20   1.523   kwh      8    PM       3   Thursday\n",
       "3 2014-04-23   0.424   kwh      6    PM       4  Wednesday\n",
       "4 2014-12-19   0.209   kwh      1    AM      12     Friday"
      ]
     },
     "execution_count": 27,
     "metadata": {},
     "output_type": "execute_result"
    }
   ],
   "source": [
    "df.head()"
   ]
  },
  {
   "cell_type": "code",
   "execution_count": 28,
   "id": "0b279b7d",
   "metadata": {},
   "outputs": [],
   "source": [
    "week_days = df.groupby(by = 'Week_days')['Values'].mean()"
   ]
  },
  {
   "cell_type": "code",
   "execution_count": 29,
   "id": "e842d628",
   "metadata": {},
   "outputs": [
    {
     "data": {
      "text/plain": [
       "Week_days\n",
       "Sunday       0.898601\n",
       "Saturday     0.890300\n",
       "Friday       0.753666\n",
       "Thursday     0.746375\n",
       "Wednesday    0.733699\n",
       "Monday       0.725894\n",
       "Tuesday      0.724843\n",
       "Name: Values, dtype: float64"
      ]
     },
     "execution_count": 29,
     "metadata": {},
     "output_type": "execute_result"
    }
   ],
   "source": [
    "week_days.sort_values(ascending=False)"
   ]
  },
  {
   "cell_type": "markdown",
   "id": "d5d09e0d",
   "metadata": {},
   "source": [
    "### Highest amount of electricity used in a continuous 4 hour period is 17.237 kwh"
   ]
  },
  {
   "cell_type": "code",
   "execution_count": 30,
   "id": "05c5658e",
   "metadata": {},
   "outputs": [],
   "source": [
    "#  First we took the hours and created the timestamp with the AM|PM distinction\n",
    "\n",
    "df['timestamp']=pd.to_datetime(df['Hours'].astype(str)+' '+df['AM_PM'], format='%I %p')"
   ]
  },
  {
   "cell_type": "code",
   "execution_count": 31,
   "id": "4f8720a7",
   "metadata": {},
   "outputs": [
    {
     "data": {
      "text/html": [
       "<div>\n",
       "<style scoped>\n",
       "    .dataframe tbody tr th:only-of-type {\n",
       "        vertical-align: middle;\n",
       "    }\n",
       "\n",
       "    .dataframe tbody tr th {\n",
       "        vertical-align: top;\n",
       "    }\n",
       "\n",
       "    .dataframe thead th {\n",
       "        text-align: right;\n",
       "    }\n",
       "</style>\n",
       "<table border=\"1\" class=\"dataframe\">\n",
       "  <thead>\n",
       "    <tr style=\"text-align: right;\">\n",
       "      <th></th>\n",
       "      <th>Dates</th>\n",
       "      <th>Values</th>\n",
       "      <th>Units</th>\n",
       "      <th>Hours</th>\n",
       "      <th>AM_PM</th>\n",
       "      <th>Months</th>\n",
       "      <th>Week_days</th>\n",
       "      <th>timestamp</th>\n",
       "    </tr>\n",
       "  </thead>\n",
       "  <tbody>\n",
       "    <tr>\n",
       "      <th>0</th>\n",
       "      <td>2014-03-24</td>\n",
       "      <td>0.384</td>\n",
       "      <td>kwh</td>\n",
       "      <td>3</td>\n",
       "      <td>PM</td>\n",
       "      <td>3</td>\n",
       "      <td>Monday</td>\n",
       "      <td>1900-01-01 15:00:00</td>\n",
       "    </tr>\n",
       "    <tr>\n",
       "      <th>1</th>\n",
       "      <td>2014-08-15</td>\n",
       "      <td>1.201</td>\n",
       "      <td>kwh</td>\n",
       "      <td>5</td>\n",
       "      <td>AM</td>\n",
       "      <td>8</td>\n",
       "      <td>Friday</td>\n",
       "      <td>1900-01-01 05:00:00</td>\n",
       "    </tr>\n",
       "    <tr>\n",
       "      <th>2</th>\n",
       "      <td>2014-03-20</td>\n",
       "      <td>1.523</td>\n",
       "      <td>kwh</td>\n",
       "      <td>8</td>\n",
       "      <td>PM</td>\n",
       "      <td>3</td>\n",
       "      <td>Thursday</td>\n",
       "      <td>1900-01-01 20:00:00</td>\n",
       "    </tr>\n",
       "    <tr>\n",
       "      <th>3</th>\n",
       "      <td>2014-04-23</td>\n",
       "      <td>0.424</td>\n",
       "      <td>kwh</td>\n",
       "      <td>6</td>\n",
       "      <td>PM</td>\n",
       "      <td>4</td>\n",
       "      <td>Wednesday</td>\n",
       "      <td>1900-01-01 18:00:00</td>\n",
       "    </tr>\n",
       "    <tr>\n",
       "      <th>4</th>\n",
       "      <td>2014-12-19</td>\n",
       "      <td>0.209</td>\n",
       "      <td>kwh</td>\n",
       "      <td>1</td>\n",
       "      <td>AM</td>\n",
       "      <td>12</td>\n",
       "      <td>Friday</td>\n",
       "      <td>1900-01-01 01:00:00</td>\n",
       "    </tr>\n",
       "  </tbody>\n",
       "</table>\n",
       "</div>"
      ],
      "text/plain": [
       "       Dates  Values Units  Hours AM_PM  Months  Week_days           timestamp\n",
       "0 2014-03-24   0.384   kwh      3    PM       3     Monday 1900-01-01 15:00:00\n",
       "1 2014-08-15   1.201   kwh      5    AM       8     Friday 1900-01-01 05:00:00\n",
       "2 2014-03-20   1.523   kwh      8    PM       3   Thursday 1900-01-01 20:00:00\n",
       "3 2014-04-23   0.424   kwh      6    PM       4  Wednesday 1900-01-01 18:00:00\n",
       "4 2014-12-19   0.209   kwh      1    AM      12     Friday 1900-01-01 01:00:00"
      ]
     },
     "execution_count": 31,
     "metadata": {},
     "output_type": "execute_result"
    }
   ],
   "source": [
    "df.head()"
   ]
  },
  {
   "cell_type": "code",
   "execution_count": 32,
   "id": "f6417c90",
   "metadata": {},
   "outputs": [],
   "source": [
    "df['Year']=pd.to_datetime(df['Dates']).dt.year\n",
    "df['Month']=pd.to_datetime(df['Dates']).dt.month\n",
    "df['Day']=pd.to_datetime(df['Dates']).dt.day"
   ]
  },
  {
   "cell_type": "code",
   "execution_count": 33,
   "id": "02af14cc",
   "metadata": {},
   "outputs": [],
   "source": [
    "## To synchronise the hours with our min() date in our data\n",
    "\n",
    "df['Datetime']=pd.to_datetime(df[['Year','Month', 'Day']])+pd.to_timedelta(df['timestamp'].dt.strftime('%H:%M:%S'))"
   ]
  },
  {
   "cell_type": "code",
   "execution_count": 34,
   "id": "6a9a662d",
   "metadata": {},
   "outputs": [],
   "source": [
    "df.drop(['timestamp'], axis=1, inplace=True)"
   ]
  },
  {
   "cell_type": "code",
   "execution_count": 35,
   "id": "d3598e77",
   "metadata": {},
   "outputs": [],
   "source": [
    "df.drop(['Months'], axis=1,inplace=True)"
   ]
  },
  {
   "cell_type": "code",
   "execution_count": 36,
   "id": "513cdeee",
   "metadata": {},
   "outputs": [],
   "source": [
    "df.sort_values('Datetime', inplace = True)"
   ]
  },
  {
   "cell_type": "code",
   "execution_count": 37,
   "id": "3d717d56",
   "metadata": {},
   "outputs": [],
   "source": [
    "df.set_index('Datetime', inplace = True)"
   ]
  },
  {
   "cell_type": "code",
   "execution_count": 38,
   "id": "735a922f",
   "metadata": {},
   "outputs": [
    {
     "data": {
      "text/html": [
       "<div>\n",
       "<style scoped>\n",
       "    .dataframe tbody tr th:only-of-type {\n",
       "        vertical-align: middle;\n",
       "    }\n",
       "\n",
       "    .dataframe tbody tr th {\n",
       "        vertical-align: top;\n",
       "    }\n",
       "\n",
       "    .dataframe thead th {\n",
       "        text-align: right;\n",
       "    }\n",
       "</style>\n",
       "<table border=\"1\" class=\"dataframe\">\n",
       "  <thead>\n",
       "    <tr style=\"text-align: right;\">\n",
       "      <th></th>\n",
       "      <th>Dates</th>\n",
       "      <th>Values</th>\n",
       "      <th>Units</th>\n",
       "      <th>Hours</th>\n",
       "      <th>AM_PM</th>\n",
       "      <th>Week_days</th>\n",
       "      <th>Year</th>\n",
       "      <th>Month</th>\n",
       "      <th>Day</th>\n",
       "    </tr>\n",
       "    <tr>\n",
       "      <th>Datetime</th>\n",
       "      <th></th>\n",
       "      <th></th>\n",
       "      <th></th>\n",
       "      <th></th>\n",
       "      <th></th>\n",
       "      <th></th>\n",
       "      <th></th>\n",
       "      <th></th>\n",
       "      <th></th>\n",
       "    </tr>\n",
       "  </thead>\n",
       "  <tbody>\n",
       "    <tr>\n",
       "      <th>2014-01-01 00:00:00</th>\n",
       "      <td>2014-01-01</td>\n",
       "      <td>0.684</td>\n",
       "      <td>kwh</td>\n",
       "      <td>12</td>\n",
       "      <td>AM</td>\n",
       "      <td>Wednesday</td>\n",
       "      <td>2014</td>\n",
       "      <td>1</td>\n",
       "      <td>1</td>\n",
       "    </tr>\n",
       "    <tr>\n",
       "      <th>2014-01-01 01:00:00</th>\n",
       "      <td>2014-01-01</td>\n",
       "      <td>0.340</td>\n",
       "      <td>kwh</td>\n",
       "      <td>1</td>\n",
       "      <td>AM</td>\n",
       "      <td>Wednesday</td>\n",
       "      <td>2014</td>\n",
       "      <td>1</td>\n",
       "      <td>1</td>\n",
       "    </tr>\n",
       "    <tr>\n",
       "      <th>2014-01-01 02:00:00</th>\n",
       "      <td>2014-01-01</td>\n",
       "      <td>0.332</td>\n",
       "      <td>kwh</td>\n",
       "      <td>2</td>\n",
       "      <td>AM</td>\n",
       "      <td>Wednesday</td>\n",
       "      <td>2014</td>\n",
       "      <td>1</td>\n",
       "      <td>1</td>\n",
       "    </tr>\n",
       "    <tr>\n",
       "      <th>2014-01-01 03:00:00</th>\n",
       "      <td>2014-01-01</td>\n",
       "      <td>0.396</td>\n",
       "      <td>kwh</td>\n",
       "      <td>3</td>\n",
       "      <td>AM</td>\n",
       "      <td>Wednesday</td>\n",
       "      <td>2014</td>\n",
       "      <td>1</td>\n",
       "      <td>1</td>\n",
       "    </tr>\n",
       "    <tr>\n",
       "      <th>2014-01-01 04:00:00</th>\n",
       "      <td>2014-01-01</td>\n",
       "      <td>0.388</td>\n",
       "      <td>kwh</td>\n",
       "      <td>4</td>\n",
       "      <td>AM</td>\n",
       "      <td>Wednesday</td>\n",
       "      <td>2014</td>\n",
       "      <td>1</td>\n",
       "      <td>1</td>\n",
       "    </tr>\n",
       "  </tbody>\n",
       "</table>\n",
       "</div>"
      ],
      "text/plain": [
       "                         Dates  Values Units  Hours AM_PM  Week_days  Year  \\\n",
       "Datetime                                                                     \n",
       "2014-01-01 00:00:00 2014-01-01   0.684   kwh     12    AM  Wednesday  2014   \n",
       "2014-01-01 01:00:00 2014-01-01   0.340   kwh      1    AM  Wednesday  2014   \n",
       "2014-01-01 02:00:00 2014-01-01   0.332   kwh      2    AM  Wednesday  2014   \n",
       "2014-01-01 03:00:00 2014-01-01   0.396   kwh      3    AM  Wednesday  2014   \n",
       "2014-01-01 04:00:00 2014-01-01   0.388   kwh      4    AM  Wednesday  2014   \n",
       "\n",
       "                     Month  Day  \n",
       "Datetime                         \n",
       "2014-01-01 00:00:00      1    1  \n",
       "2014-01-01 01:00:00      1    1  \n",
       "2014-01-01 02:00:00      1    1  \n",
       "2014-01-01 03:00:00      1    1  \n",
       "2014-01-01 04:00:00      1    1  "
      ]
     },
     "execution_count": 38,
     "metadata": {},
     "output_type": "execute_result"
    }
   ],
   "source": [
    "df.head()"
   ]
  },
  {
   "cell_type": "code",
   "execution_count": 39,
   "id": "698ed350",
   "metadata": {},
   "outputs": [],
   "source": [
    "## We are grouping the Data into 4 hour time intervals and calculating the cumulative sums of the kwh used\n",
    "# We chose closed = 'right', to indicate that each 4 hour time interval is separated from the previous 4 hour time interval\n",
    "\n",
    "grouped_df = df['Values'].groupby(pd.Grouper(freq = '4H',closed ='right' )).sum()"
   ]
  },
  {
   "cell_type": "code",
   "execution_count": 40,
   "id": "3844529f",
   "metadata": {},
   "outputs": [
    {
     "data": {
      "text/plain": [
       "Datetime\n",
       "2014-07-20 16:00:00    17.237\n",
       "Freq: 4H, Name: Values, dtype: float64"
      ]
     },
     "execution_count": 40,
     "metadata": {},
     "output_type": "execute_result"
    }
   ],
   "source": [
    "grouped_df[grouped_df==grouped_df.max()]"
   ]
  },
  {
   "cell_type": "markdown",
   "id": "a3b93da7",
   "metadata": {},
   "source": [
    "### Under the Monthly flex contract. Based on the historic electricity usage, the annual cost of electricity will be 1421.0577"
   ]
  },
  {
   "cell_type": "code",
   "execution_count": 41,
   "id": "61fa90e0",
   "metadata": {},
   "outputs": [],
   "source": [
    "# df.drop(['Monthly_flex'], axis=1, inplace=True)"
   ]
  },
  {
   "cell_type": "code",
   "execution_count": 42,
   "id": "8cb62194",
   "metadata": {},
   "outputs": [],
   "source": [
    "cost = {1:0.20, 2:0.19,3:0.17,4:0.18,\n",
    "       5:0.22,6:0.27,7:0.24,8:0.19,\n",
    "       9:0.18,10:0.15,11:0.14,12:0.19}"
   ]
  },
  {
   "cell_type": "code",
   "execution_count": 43,
   "id": "c5873170",
   "metadata": {},
   "outputs": [],
   "source": [
    "df['Monthly_cost'] = df['Month'].map(cost)"
   ]
  },
  {
   "cell_type": "code",
   "execution_count": 44,
   "id": "fb62a24c",
   "metadata": {},
   "outputs": [
    {
     "data": {
      "text/plain": [
       "0    1421.20577\n",
       "dtype: float64"
      ]
     },
     "execution_count": 44,
     "metadata": {},
     "output_type": "execute_result"
    }
   ],
   "source": [
    "## We calculated the cost for each month separately\n",
    "\n",
    "## Then took the monthly costs according to the month_flex sheet and found the Annual cost as the task requires\n",
    "\n",
    "month_usage=df.groupby('Month')['Values'].sum()\n",
    "\n",
    "month_cost=df.groupby('Month')['Monthly_cost'].min()\n",
    "\n",
    "annual_cost=pd.DataFrame(month_usage*month_cost).sum()\n",
    "\n",
    "annual_cost"
   ]
  },
  {
   "cell_type": "code",
   "execution_count": 45,
   "id": "5524c7f7",
   "metadata": {},
   "outputs": [
    {
     "data": {
      "text/html": [
       "<div>\n",
       "<style scoped>\n",
       "    .dataframe tbody tr th:only-of-type {\n",
       "        vertical-align: middle;\n",
       "    }\n",
       "\n",
       "    .dataframe tbody tr th {\n",
       "        vertical-align: top;\n",
       "    }\n",
       "\n",
       "    .dataframe thead th {\n",
       "        text-align: right;\n",
       "    }\n",
       "</style>\n",
       "<table border=\"1\" class=\"dataframe\">\n",
       "  <thead>\n",
       "    <tr style=\"text-align: right;\">\n",
       "      <th></th>\n",
       "      <th>Dates</th>\n",
       "      <th>Values</th>\n",
       "      <th>Units</th>\n",
       "      <th>Hours</th>\n",
       "      <th>AM_PM</th>\n",
       "      <th>Week_days</th>\n",
       "      <th>Year</th>\n",
       "      <th>Month</th>\n",
       "      <th>Day</th>\n",
       "      <th>Monthly_cost</th>\n",
       "    </tr>\n",
       "    <tr>\n",
       "      <th>Datetime</th>\n",
       "      <th></th>\n",
       "      <th></th>\n",
       "      <th></th>\n",
       "      <th></th>\n",
       "      <th></th>\n",
       "      <th></th>\n",
       "      <th></th>\n",
       "      <th></th>\n",
       "      <th></th>\n",
       "      <th></th>\n",
       "    </tr>\n",
       "  </thead>\n",
       "  <tbody>\n",
       "    <tr>\n",
       "      <th>2014-01-01 00:00:00</th>\n",
       "      <td>2014-01-01</td>\n",
       "      <td>0.684</td>\n",
       "      <td>kwh</td>\n",
       "      <td>12</td>\n",
       "      <td>AM</td>\n",
       "      <td>Wednesday</td>\n",
       "      <td>2014</td>\n",
       "      <td>1</td>\n",
       "      <td>1</td>\n",
       "      <td>0.2</td>\n",
       "    </tr>\n",
       "    <tr>\n",
       "      <th>2014-01-01 01:00:00</th>\n",
       "      <td>2014-01-01</td>\n",
       "      <td>0.340</td>\n",
       "      <td>kwh</td>\n",
       "      <td>1</td>\n",
       "      <td>AM</td>\n",
       "      <td>Wednesday</td>\n",
       "      <td>2014</td>\n",
       "      <td>1</td>\n",
       "      <td>1</td>\n",
       "      <td>0.2</td>\n",
       "    </tr>\n",
       "    <tr>\n",
       "      <th>2014-01-01 02:00:00</th>\n",
       "      <td>2014-01-01</td>\n",
       "      <td>0.332</td>\n",
       "      <td>kwh</td>\n",
       "      <td>2</td>\n",
       "      <td>AM</td>\n",
       "      <td>Wednesday</td>\n",
       "      <td>2014</td>\n",
       "      <td>1</td>\n",
       "      <td>1</td>\n",
       "      <td>0.2</td>\n",
       "    </tr>\n",
       "    <tr>\n",
       "      <th>2014-01-01 03:00:00</th>\n",
       "      <td>2014-01-01</td>\n",
       "      <td>0.396</td>\n",
       "      <td>kwh</td>\n",
       "      <td>3</td>\n",
       "      <td>AM</td>\n",
       "      <td>Wednesday</td>\n",
       "      <td>2014</td>\n",
       "      <td>1</td>\n",
       "      <td>1</td>\n",
       "      <td>0.2</td>\n",
       "    </tr>\n",
       "    <tr>\n",
       "      <th>2014-01-01 04:00:00</th>\n",
       "      <td>2014-01-01</td>\n",
       "      <td>0.388</td>\n",
       "      <td>kwh</td>\n",
       "      <td>4</td>\n",
       "      <td>AM</td>\n",
       "      <td>Wednesday</td>\n",
       "      <td>2014</td>\n",
       "      <td>1</td>\n",
       "      <td>1</td>\n",
       "      <td>0.2</td>\n",
       "    </tr>\n",
       "  </tbody>\n",
       "</table>\n",
       "</div>"
      ],
      "text/plain": [
       "                         Dates  Values Units  Hours AM_PM  Week_days  Year  \\\n",
       "Datetime                                                                     \n",
       "2014-01-01 00:00:00 2014-01-01   0.684   kwh     12    AM  Wednesday  2014   \n",
       "2014-01-01 01:00:00 2014-01-01   0.340   kwh      1    AM  Wednesday  2014   \n",
       "2014-01-01 02:00:00 2014-01-01   0.332   kwh      2    AM  Wednesday  2014   \n",
       "2014-01-01 03:00:00 2014-01-01   0.396   kwh      3    AM  Wednesday  2014   \n",
       "2014-01-01 04:00:00 2014-01-01   0.388   kwh      4    AM  Wednesday  2014   \n",
       "\n",
       "                     Month  Day  Monthly_cost  \n",
       "Datetime                                       \n",
       "2014-01-01 00:00:00      1    1           0.2  \n",
       "2014-01-01 01:00:00      1    1           0.2  \n",
       "2014-01-01 02:00:00      1    1           0.2  \n",
       "2014-01-01 03:00:00      1    1           0.2  \n",
       "2014-01-01 04:00:00      1    1           0.2  "
      ]
     },
     "execution_count": 45,
     "metadata": {},
     "output_type": "execute_result"
    }
   ],
   "source": [
    "df.head()"
   ]
  },
  {
   "cell_type": "markdown",
   "id": "4eb90731",
   "metadata": {},
   "source": [
    "### No Flex Plan \n",
    "- Which is the fixed cost per kWh of electricity  for the entire year that equals to 0.21"
   ]
  },
  {
   "cell_type": "code",
   "execution_count": 46,
   "id": "5a74e0be",
   "metadata": {},
   "outputs": [],
   "source": [
    "df.reset_index(inplace=True)"
   ]
  },
  {
   "cell_type": "code",
   "execution_count": 47,
   "id": "10c3be05",
   "metadata": {},
   "outputs": [
    {
     "data": {
      "text/plain": [
       "Datetime\n",
       "2014    1438.10394\n",
       "Name: Values, dtype: float64"
      ]
     },
     "execution_count": 47,
     "metadata": {},
     "output_type": "execute_result"
    }
   ],
   "source": [
    "no_flex= df.groupby(df['Datetime'].dt.year)['Values'].sum()*0.21\n",
    "\n",
    "no_flex"
   ]
  },
  {
   "cell_type": "markdown",
   "id": "50681723",
   "metadata": {},
   "source": [
    "### Monthly Flex\n",
    "\n",
    "- Which is the cost per kWh of electricity depending on the month"
   ]
  },
  {
   "cell_type": "code",
   "execution_count": 48,
   "id": "30318c3e",
   "metadata": {},
   "outputs": [
    {
     "data": {
      "text/plain": [
       "0    1421.20577\n",
       "dtype: float64"
      ]
     },
     "execution_count": 48,
     "metadata": {},
     "output_type": "execute_result"
    }
   ],
   "source": [
    "monthly_flex = annual_cost\n",
    "\n",
    "monthly_flex"
   ]
  },
  {
   "cell_type": "markdown",
   "id": "536648aa",
   "metadata": {},
   "source": [
    "### Hourly Flex\n",
    "\n",
    "- Which is the cost per kWh of electricity based on the time of day"
   ]
  },
  {
   "cell_type": "code",
   "execution_count": 49,
   "id": "bbdbc2a2",
   "metadata": {},
   "outputs": [],
   "source": [
    "df['Timestamp']=df['Datetime'].dt.strftime('%H:%M:%S')"
   ]
  },
  {
   "cell_type": "code",
   "execution_count": 50,
   "id": "a73e00fe",
   "metadata": {},
   "outputs": [],
   "source": [
    "additional_data = pd.DataFrame({'StartTime':['00:00:00','01:00:00','02:00:00','03:00:00',\n",
    "                                             '04:00:00','05:00:00','06:00:00','07:00:00','08:00:00','09:00:00','10:00:00',\n",
    "                                             '11:00:00','12:00:00','13:00:00','14:00:00','15:00:00','16:00:00','17:00:00',\n",
    "                                             '18:00:00','19:00:00','20:00:00', '21:00:00','22:00:00','23:00:00'],\n",
    "             'EndTime':['01:00:00','02:00:00','03:00:00','04:00:00',\n",
    "                        '05:00:00','06:00:00','07:00:00','08:00:00','09:00:00','10:00:00',\n",
    "                        '11:00:00','12:00:00','13:00:00','14:00:00','15:00:00','16:00:00',\n",
    "                        '17:00:00','18:00:00','19:00:00','20:00:00', '21:00:00','22:00:00','23:00:00','00:00:00'],\n",
    "             'HrlyCost':[0.10,0.10,0.10,0.10,0.15,0.20,0.24,0.24,0.26,0.20,0.20,0.26,0.26,0.20,0.24,0.18,0.15,\n",
    "                    0.30,0.24,0.24,0.12,0.11,0.10,0.10]})"
   ]
  },
  {
   "cell_type": "code",
   "execution_count": 51,
   "id": "4c19b590",
   "metadata": {},
   "outputs": [],
   "source": [
    " df_merged = df.merge(additional_data,left_on='Timestamp', right_on='StartTime', how='left')"
   ]
  },
  {
   "cell_type": "code",
   "execution_count": 52,
   "id": "c655767d",
   "metadata": {},
   "outputs": [],
   "source": [
    "df_merged.drop(['StartTime', 'EndTime'], axis=1, inplace=True)"
   ]
  },
  {
   "cell_type": "code",
   "execution_count": 53,
   "id": "21fd4d51",
   "metadata": {},
   "outputs": [],
   "source": [
    "hrly_cost = df_merged.groupby('Timestamp')['HrlyCost'].min()"
   ]
  },
  {
   "cell_type": "markdown",
   "id": "ff74b136",
   "metadata": {},
   "source": [
    "- Finding the annual cost for the Hourly flex plan"
   ]
  },
  {
   "cell_type": "code",
   "execution_count": 54,
   "id": "bcd1deb6",
   "metadata": {},
   "outputs": [],
   "source": [
    "usage = df_merged.groupby('Timestamp')['Values'].sum()"
   ]
  },
  {
   "cell_type": "code",
   "execution_count": 55,
   "id": "59269705",
   "metadata": {},
   "outputs": [],
   "source": [
    "hour_flex=pd.DataFrame(hrly_cost*usage).sum()"
   ]
  },
  {
   "cell_type": "code",
   "execution_count": 56,
   "id": "429563bc",
   "metadata": {},
   "outputs": [],
   "source": [
    "flex = {'No Flex plan':no_flex,\n",
    "       'Monthly Flex plan':monthly_flex,\n",
    "       'Hourly Flex Plan':hour_flex}"
   ]
  },
  {
   "cell_type": "code",
   "execution_count": 57,
   "id": "7ad77322",
   "metadata": {},
   "outputs": [],
   "source": [
    "flex = {key : value.item() for key, value in flex.items()}"
   ]
  },
  {
   "cell_type": "code",
   "execution_count": 58,
   "id": "183d7949",
   "metadata": {},
   "outputs": [
    {
     "data": {
      "text/html": [
       "<div>\n",
       "<style scoped>\n",
       "    .dataframe tbody tr th:only-of-type {\n",
       "        vertical-align: middle;\n",
       "    }\n",
       "\n",
       "    .dataframe tbody tr th {\n",
       "        vertical-align: top;\n",
       "    }\n",
       "\n",
       "    .dataframe thead th {\n",
       "        text-align: right;\n",
       "    }\n",
       "</style>\n",
       "<table border=\"1\" class=\"dataframe\">\n",
       "  <thead>\n",
       "    <tr style=\"text-align: right;\">\n",
       "      <th></th>\n",
       "      <th>Values</th>\n",
       "    </tr>\n",
       "  </thead>\n",
       "  <tbody>\n",
       "    <tr>\n",
       "      <th>Hourly Flex Plan</th>\n",
       "      <td>1368.97647</td>\n",
       "    </tr>\n",
       "    <tr>\n",
       "      <th>Monthly Flex plan</th>\n",
       "      <td>1421.20577</td>\n",
       "    </tr>\n",
       "    <tr>\n",
       "      <th>No Flex plan</th>\n",
       "      <td>1438.10394</td>\n",
       "    </tr>\n",
       "  </tbody>\n",
       "</table>\n",
       "</div>"
      ],
      "text/plain": [
       "                       Values\n",
       "Hourly Flex Plan   1368.97647\n",
       "Monthly Flex plan  1421.20577\n",
       "No Flex plan       1438.10394"
      ]
     },
     "execution_count": 58,
     "metadata": {},
     "output_type": "execute_result"
    }
   ],
   "source": [
    "flex_values = pd.DataFrame.from_dict(flex, orient='index', columns=['Values'])\n",
    "\n",
    "flex_values.sort_values('Values')"
   ]
  },
  {
   "cell_type": "markdown",
   "id": "0caf1f9f",
   "metadata": {},
   "source": [
    "### As per result we can clearly say that an Hourly Flex Plan will produce the least amount of annual cost"
   ]
  },
  {
   "cell_type": "code",
   "execution_count": null,
   "id": "64059fd1",
   "metadata": {},
   "outputs": [],
   "source": []
  }
 ],
 "metadata": {
  "kernelspec": {
   "display_name": "Python 3 (ipykernel)",
   "language": "python",
   "name": "python3"
  },
  "language_info": {
   "codemirror_mode": {
    "name": "ipython",
    "version": 3
   },
   "file_extension": ".py",
   "mimetype": "text/x-python",
   "name": "python",
   "nbconvert_exporter": "python",
   "pygments_lexer": "ipython3",
   "version": "3.9.12"
  }
 },
 "nbformat": 4,
 "nbformat_minor": 5
}
